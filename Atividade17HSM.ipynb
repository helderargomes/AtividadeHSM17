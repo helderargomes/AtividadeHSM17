{
  "nbformat": 4,
  "nbformat_minor": 0,
  "metadata": {
    "colab": {
      "name": "Atividade17HSM.ipynb",
      "provenance": [],
      "collapsed_sections": []
    },
    "kernelspec": {
      "name": "python3",
      "display_name": "Python 3"
    },
    "language_info": {
      "name": "python"
    }
  },
  "cells": [
    {
      "cell_type": "code",
      "execution_count": 36,
      "metadata": {
        "id": "bVufRQsbgi0F"
      },
      "outputs": [],
      "source": [
        "# Importando as bibliotecas NumPy e Pandas\n",
        "import numpy as np\n",
        "import pandas as pd\n",
        "import matplotlib.pyplot as plt\n",
        "import seaborn as sns"
      ]
    },
    {
      "cell_type": "code",
      "source": [
        "# Importando a base de dados de infrações de trânsito no mês de julho de 2020\n",
        "db = pd.read_csv('julho.csv', sep=';')"
      ],
      "metadata": {
        "id": "LHGS_ej5htuw"
      },
      "execution_count": 19,
      "outputs": []
    },
    {
      "cell_type": "code",
      "source": [
        "# Verificando o cabeçalho do arquivo\n",
        "db.head()"
      ],
      "metadata": {
        "id": "3UrTqrEri7N-"
      },
      "execution_count": null,
      "outputs": []
    },
    {
      "cell_type": "code",
      "source": [
        "# Avaliando o tamanho do arquivo\n",
        "db.shape"
      ],
      "metadata": {
        "id": "eXYU_OvKjMT8"
      },
      "execution_count": null,
      "outputs": []
    },
    {
      "cell_type": "code",
      "source": [
        "# Avaliando os tipos de dados do dataframe\n",
        "db.dtypes"
      ],
      "metadata": {
        "id": "XpHKJ03bjTTh"
      },
      "execution_count": null,
      "outputs": []
    },
    {
      "cell_type": "code",
      "source": [
        "# Ao avaliar os tipos de dados, já se nota uma necessidade: alterar o tipo de dado da coluna \"cometimento\" de object (string) para data\n",
        "db[\"cometimento\"] = pd.to_datetime(db[\"cometimento\"])"
      ],
      "metadata": {
        "id": "4Q9G6jnmjhIe"
      },
      "execution_count": 23,
      "outputs": []
    },
    {
      "cell_type": "code",
      "source": [
        "# Verificando se a transformação de tipos de dados ocorreu\n",
        "db.dtypes"
      ],
      "metadata": {
        "id": "k_VuZtjwkFs0",
        "colab": {
          "base_uri": "https://localhost:8080/"
        },
        "outputId": "d027f5f5-a870-4d30-f4de-5f76c6caf55a"
      },
      "execution_count": 33,
      "outputs": [
        {
          "output_type": "execute_result",
          "data": {
            "text/plain": [
              "tipo_infracao                      object\n",
              "descricao                          object\n",
              "tipo_infrator                      object\n",
              "tipo_veiculo                       object\n",
              "cometimento                datetime64[ns]\n",
              "hora_cometimento                   object\n",
              "auinf_local_rodovia                object\n",
              "auinf_local_km                    float64\n",
              "auinf_local_referencia             object\n",
              "auinf_local_complemento            object\n",
              "auinf_local_latitude               object\n",
              "auinf_local_longitude              object\n",
              "grav_tipo                          object\n",
              "dia_cometimento                   float64\n",
              "dtype: object"
            ]
          },
          "metadata": {},
          "execution_count": 33
        }
      ]
    },
    {
      "cell_type": "code",
      "source": [
        "# Uma vez que uma das questões do problema é obter o número de infrações diárias, já vou criar uma coluna para separar o dia. Foi necessário pedir para filtrar pelo mês, em função do formato da data.\n",
        "db[\"dia_cometimento\"] = (db[\"cometimento\"].dt.month)"
      ],
      "metadata": {
        "id": "41H59O5lkYtP"
      },
      "execution_count": 29,
      "outputs": []
    },
    {
      "cell_type": "code",
      "source": [
        "# Verificando se a coluna foi criada\n",
        "db.dtypes"
      ],
      "metadata": {
        "id": "nA-2mHyWkzSu"
      },
      "execution_count": null,
      "outputs": []
    },
    {
      "cell_type": "code",
      "source": [
        "db.tail(20)"
      ],
      "metadata": {
        "id": "pScp1Vphcnnw"
      },
      "execution_count": null,
      "outputs": []
    },
    {
      "cell_type": "code",
      "source": [
        "# Verificando a existência de valores nulos\n",
        "db.isnull().sum()\n",
        "#Verifica-se que há dados faltantes em algumas colunas, principalmente nos dados do local de cometimento da infração."
      ],
      "metadata": {
        "id": "RyBcA3Kak_KM",
        "colab": {
          "base_uri": "https://localhost:8080/"
        },
        "outputId": "810a0e7e-bbc6-4272-d7d0-be2de2309778"
      },
      "execution_count": 34,
      "outputs": [
        {
          "output_type": "execute_result",
          "data": {
            "text/plain": [
              "tipo_infracao                 0\n",
              "descricao                     0\n",
              "tipo_infrator                 1\n",
              "tipo_veiculo                  1\n",
              "cometimento                   1\n",
              "hora_cometimento              1\n",
              "auinf_local_rodovia           2\n",
              "auinf_local_km             3916\n",
              "auinf_local_referencia     3974\n",
              "auinf_local_complemento    4721\n",
              "auinf_local_latitude       3954\n",
              "auinf_local_longitude      3954\n",
              "grav_tipo                     1\n",
              "dia_cometimento               1\n",
              "dtype: int64"
            ]
          },
          "metadata": {},
          "execution_count": 34
        }
      ]
    },
    {
      "cell_type": "code",
      "source": [
        "# Avaliando a quantidade de infrações de cada tipo\n",
        "db[\"grav_tipo\"].value_counts(ascending=True)"
      ],
      "metadata": {
        "id": "n59u7kgGm8sC"
      },
      "execution_count": null,
      "outputs": []
    },
    {
      "cell_type": "code",
      "source": [
        "# Avaliando o número de infrações diárias\n",
        "db.groupby(\"dia_cometimento\")[\"tipo_infracao\"].count()"
      ],
      "metadata": {
        "id": "-zazbMEUnb_W"
      },
      "execution_count": null,
      "outputs": []
    },
    {
      "cell_type": "code",
      "source": [
        "# Realizando a análise de correlação entre as variáveis do dataframe\n",
        "db.corr()\n",
        "# A análise de correlação ficou comprometida pelo fato de que há muitos dados vazios nas variáveis quantitativas."
      ],
      "metadata": {
        "id": "BVJaaPnXCxEb"
      },
      "execution_count": null,
      "outputs": []
    },
    {
      "cell_type": "code",
      "source": [
        "# Construção de um gráfico de barras com a paleta de cor qualitativa \"Set2\", representando o número de infrações por tipo de infrator\n",
        "sns.catplot(x =\"tipo_infrator\", kind=\"count\", palette=\"Set2\", data=db)\n",
        "plt.title(\"Quantidade de ocorrências por tipo de infrator\")"
      ],
      "metadata": {
        "id": "ldMcOsknDuWK"
      },
      "execution_count": null,
      "outputs": []
    },
    {
      "cell_type": "code",
      "source": [
        "# Construção de um gráfico de barras com a paleta de cor qualitativa \"Set2\", representando o número de infrações por tipo de veículo\n",
        "sns.catplot(x =\"tipo_veiculo\", kind=\"count\", palette=\"Set2\", data=db)\n",
        "plt.title(\"Quantidade de ocorrências por tipo de infrator\")\n"
      ],
      "metadata": {
        "id": "04fcOa3CIwkZ"
      },
      "execution_count": null,
      "outputs": []
    }
  ]
}